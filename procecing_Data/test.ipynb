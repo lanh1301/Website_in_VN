{
 "cells": [
  {
   "cell_type": "code",
   "execution_count": 86,
   "metadata": {},
   "outputs": [],
   "source": [
    "import numpy as np\n",
    "import pandas as pd\n",
    "import re\n",
    "import requests\n",
    "from bs4 import BeautifulSoup"
   ]
  },
  {
   "cell_type": "code",
   "execution_count": 3,
   "metadata": {},
   "outputs": [],
   "source": [
    "data = pd.read_csv('./../data/data.csv')"
   ]
  },
  {
   "cell_type": "code",
   "execution_count": 4,
   "metadata": {},
   "outputs": [
    {
     "data": {
      "text/html": [
       "<div>\n",
       "<style scoped>\n",
       "    .dataframe tbody tr th:only-of-type {\n",
       "        vertical-align: middle;\n",
       "    }\n",
       "\n",
       "    .dataframe tbody tr th {\n",
       "        vertical-align: top;\n",
       "    }\n",
       "\n",
       "    .dataframe thead th {\n",
       "        text-align: right;\n",
       "    }\n",
       "</style>\n",
       "<table border=\"1\" class=\"dataframe\">\n",
       "  <thead>\n",
       "    <tr style=\"text-align: right;\">\n",
       "      <th></th>\n",
       "      <th>url_host_private_domain</th>\n",
       "      <th>fetch_time</th>\n",
       "      <th>fetch_status</th>\n",
       "      <th>content_languages</th>\n",
       "    </tr>\n",
       "  </thead>\n",
       "  <tbody>\n",
       "    <tr>\n",
       "      <th>0</th>\n",
       "      <td>umd.edu</td>\n",
       "      <td>2023-03-24 23:01:33</td>\n",
       "      <td>200</td>\n",
       "      <td>rus, eng, est,  est</td>\n",
       "    </tr>\n",
       "    <tr>\n",
       "      <th>1</th>\n",
       "      <td>umdearborn.edu</td>\n",
       "      <td>2023-03-26 18:50:50</td>\n",
       "      <td>200</td>\n",
       "      <td>pol, nno, ron, srp, mfe, cos, eus, ces, jav, l...</td>\n",
       "    </tr>\n",
       "    <tr>\n",
       "      <th>2</th>\n",
       "      <td>umdnj.edu</td>\n",
       "      <td>2023-04-01 05:13:48</td>\n",
       "      <td>200</td>\n",
       "      <td>zho</td>\n",
       "    </tr>\n",
       "    <tr>\n",
       "      <th>3</th>\n",
       "      <td>umes.edu</td>\n",
       "      <td>2023-03-28 09:14:51</td>\n",
       "      <td>200</td>\n",
       "      <td>eng</td>\n",
       "    </tr>\n",
       "    <tr>\n",
       "      <th>4</th>\n",
       "      <td>umfk.edu</td>\n",
       "      <td>2023-03-21 16:49:55</td>\n",
       "      <td>200</td>\n",
       "      <td>jpn, eng</td>\n",
       "    </tr>\n",
       "  </tbody>\n",
       "</table>\n",
       "</div>"
      ],
      "text/plain": [
       "  url_host_private_domain           fetch_time  fetch_status  \\\n",
       "0                 umd.edu  2023-03-24 23:01:33           200   \n",
       "1          umdearborn.edu  2023-03-26 18:50:50           200   \n",
       "2               umdnj.edu  2023-04-01 05:13:48           200   \n",
       "3                umes.edu  2023-03-28 09:14:51           200   \n",
       "4                umfk.edu  2023-03-21 16:49:55           200   \n",
       "\n",
       "                                   content_languages  \n",
       "0                                rus, eng, est,  est  \n",
       "1  pol, nno, ron, srp, mfe, cos, eus, ces, jav, l...  \n",
       "2                                                zho  \n",
       "3                                                eng  \n",
       "4                                           jpn, eng  "
      ]
     },
     "execution_count": 4,
     "metadata": {},
     "output_type": "execute_result"
    }
   ],
   "source": [
    "data.head()"
   ]
  },
  {
   "cell_type": "code",
   "execution_count": 84,
   "metadata": {},
   "outputs": [],
   "source": [
    "def find_url_domain(domain, result):\n",
    "    url = f\"https://{domain}/\"\n",
    "    response = requests.get(url)\n",
    "    html_content = response.text\n",
    "\n",
    "    soup_ = BeautifulSoup(html_content, 'html.parser')\n",
    "    emails = list(set(re.findall(r'\\b[A-Za-z0-9._%+-]+@[A-Za-z0-9.-]+\\.[A-Z|a-z]{2,}\\b', str(soup_))))\n",
    "    phone_numbers = list(set(re.findall(r'\\b\\d{10}\\b', str(soup_))))\n",
    "    result['emails']    = emails\n",
    "    result['phone']     = phone_numbers\n",
    "    \n",
    "    for i in soup_.find_all('a'):\n",
    "        try:\n",
    "            if 'facebook' in i['href']:\n",
    "                result['facebook'] = i['href']\n",
    "            if 'instagram' in i['href']:\n",
    "                result['instagram'] = i['href']\n",
    "            if 'youtube' in i['href']:\n",
    "                result['youtube'] = i['href']\n",
    "            if 'linkedin' in i['href']:\n",
    "                result['linkedin'] = i['href']\n",
    "            if 'twitter' in i['href']:\n",
    "                result['twitter'] = i['href']\n",
    "        except:\n",
    "            i\n",
    "    return result\n",
    "\n",
    "def whois(domain):\n",
    "    url = f\"https://www.whois.com/whois/{domain}/\"\n",
    "    response = requests.get(url)\n",
    "    html_content = response.text\n",
    "\n",
    "    soup = BeautifulSoup(html_content, 'html.parser')\n",
    "    content = soup.find(class_=\"df-raw\")\n",
    "    return content\n",
    "\n",
    "from phoneCode import code_phone\n",
    "\n",
    "def find_country(content,result):\n",
    "    phone_numbers = re.findall(r\"\\+\\d+\\.\\d+\", content.text)[0]\n",
    "    Phone_code = phone_numbers.split('.')[0]\n",
    "    result['phone2'] = phone_numbers\n",
    "    result['country'] = code_phone[Phone_code]\n",
    "    return result\n"
   ]
  },
  {
   "cell_type": "code",
   "execution_count": 85,
   "metadata": {},
   "outputs": [
    {
     "data": {
      "text/plain": [
       "{'emails': [],\n",
       " 'phone': ['1511922313', '1588604401'],\n",
       " 'facebook': 'https://www.facebook.com/UMDearborn',\n",
       " 'instagram': 'https://www.instagram.com/umdearborn/',\n",
       " 'linkedin': 'https://www.linkedin.com/school/university-of-michigan-dearborn/',\n",
       " 'twitter': 'https://twitter.com/UM_Dearborn',\n",
       " 'youtube': 'https://www.youtube.com/user/UMDearborn',\n",
       " 'phone2': '+1.3135935519',\n",
       " 'country': 'United States (Mỹ)'}"
      ]
     },
     "execution_count": 85,
     "metadata": {},
     "output_type": "execute_result"
    }
   ],
   "source": [
    "result = {}\n",
    "\n",
    "find_url_domain('umdearborn.edu', result)\n",
    "content = whois('umdearborn.edu')\n",
    "find_country(content, result)"
   ]
  },
  {
   "cell_type": "code",
   "execution_count": 67,
   "metadata": {},
   "outputs": [
    {
     "data": {
      "text/plain": [
       "'United States (Mỹ)'"
      ]
     },
     "execution_count": 67,
     "metadata": {},
     "output_type": "execute_result"
    }
   ],
   "source": []
  }
 ],
 "metadata": {
  "kernelspec": {
   "display_name": "Python 3",
   "language": "python",
   "name": "python3"
  },
  "language_info": {
   "codemirror_mode": {
    "name": "ipython",
    "version": 3
   },
   "file_extension": ".py",
   "mimetype": "text/x-python",
   "name": "python",
   "nbconvert_exporter": "python",
   "pygments_lexer": "ipython3",
   "version": "3.8.3"
  },
  "orig_nbformat": 4
 },
 "nbformat": 4,
 "nbformat_minor": 2
}
